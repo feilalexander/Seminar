{
 "cells": [
  {
   "cell_type": "markdown",
   "metadata": {},
   "source": [
    "# Seminar Algorithms from THE BOOK // TUM SS2022 // Alexander Feil"
   ]
  },
  {
   "cell_type": "markdown",
   "metadata": {},
   "source": [
    "This notebook is supposed to be an addition to the Seminar report by Alexander Feil on the book \"Algorithms from THE BOOK\" written by Kenneth Lange. In this notebook, some \"experiments\" will be named. Those can be found at the end of the notebook. "
   ]
  },
  {
   "cell_type": "markdown",
   "metadata": {},
   "source": [
    "### 1.  Adjacency to neighbourhood"
   ]
  },
  {
   "cell_type": "markdown",
   "metadata": {},
   "source": [
    "In this first code we will apply the adjacency to neighbourhood algorithm. The first code returns the neighbourhood vector for our matrix A and the second code returns the weight vector. Out of curiosity, this code also returns the duration of this code using the *@time* function. "
   ]
  },
  {
   "cell_type": "code",
   "execution_count": 10,
   "metadata": {},
   "outputs": [
    {
     "name": "stdout",
     "output_type": "stream",
     "text": [
      "([[2, 3], [1, 3], [1, 2], [5], [4]], [[3, 6], [3, 8], [6, 8], [2], [2]])"
     ]
    },
    {
     "data": {
      "text/plain": [
       "BenchmarkTools.Trial: 10000 samples with 9 evaluations.\n",
       " Range \u001b[90m(\u001b[39m\u001b[36m\u001b[1mmin\u001b[22m\u001b[39m … \u001b[35mmax\u001b[39m\u001b[90m):  \u001b[39m\u001b[36m\u001b[1m2.309 μs\u001b[22m\u001b[39m … \u001b[35m373.385 μs\u001b[39m  \u001b[90m┊\u001b[39m GC \u001b[90m(\u001b[39mmin … max\u001b[90m): \u001b[39m0.00% … 98.72%\n",
       " Time  \u001b[90m(\u001b[39m\u001b[34m\u001b[1mmedian\u001b[22m\u001b[39m\u001b[90m):     \u001b[39m\u001b[34m\u001b[1m2.440 μs               \u001b[22m\u001b[39m\u001b[90m┊\u001b[39m GC \u001b[90m(\u001b[39mmedian\u001b[90m):    \u001b[39m0.00%\n",
       " Time  \u001b[90m(\u001b[39m\u001b[32m\u001b[1mmean\u001b[22m\u001b[39m ± \u001b[32mσ\u001b[39m\u001b[90m):   \u001b[39m\u001b[32m\u001b[1m2.929 μs\u001b[22m\u001b[39m ± \u001b[32m  6.336 μs\u001b[39m  \u001b[90m┊\u001b[39m GC \u001b[90m(\u001b[39mmean ± σ\u001b[90m):  \u001b[39m3.66% ±  1.71%\n",
       "\n",
       "  \u001b[39m█\u001b[34m█\u001b[39m\u001b[39m▆\u001b[39m▃\u001b[39m▁\u001b[39m▁\u001b[32m \u001b[39m\u001b[39m \u001b[39m \u001b[39m \u001b[39m \u001b[39m \u001b[39m \u001b[39m \u001b[39m \u001b[39m \u001b[39m \u001b[39m \u001b[39m \u001b[39m \u001b[39m \u001b[39m \u001b[39m \u001b[39m \u001b[39m \u001b[39m \u001b[39m \u001b[39m \u001b[39m \u001b[39m▁\u001b[39m▁\u001b[39m▁\u001b[39m \u001b[39m▁\u001b[39m \u001b[39m \u001b[39m \u001b[39m \u001b[39m \u001b[39m \u001b[39m \u001b[39m \u001b[39m \u001b[39m \u001b[39m \u001b[39m \u001b[39m \u001b[39m \u001b[39m \u001b[39m \u001b[39m \u001b[39m \u001b[39m \u001b[39m \u001b[39m \u001b[39m \u001b[39m \u001b[39m \u001b[39m \u001b[39m \u001b[39m▁\n",
       "  \u001b[39m█\u001b[34m█\u001b[39m\u001b[39m█\u001b[39m█\u001b[39m█\u001b[39m█\u001b[32m█\u001b[39m\u001b[39m█\u001b[39m█\u001b[39m▇\u001b[39m▇\u001b[39m▇\u001b[39m▇\u001b[39m▆\u001b[39m▆\u001b[39m▆\u001b[39m▆\u001b[39m▅\u001b[39m▆\u001b[39m▆\u001b[39m▆\u001b[39m▆\u001b[39m▇\u001b[39m▇\u001b[39m▇\u001b[39m█\u001b[39m█\u001b[39m█\u001b[39m█\u001b[39m█\u001b[39m█\u001b[39m█\u001b[39m█\u001b[39m█\u001b[39m█\u001b[39m█\u001b[39m▇\u001b[39m█\u001b[39m▆\u001b[39m▆\u001b[39m▅\u001b[39m▄\u001b[39m▅\u001b[39m▃\u001b[39m▅\u001b[39m▄\u001b[39m▄\u001b[39m▄\u001b[39m▃\u001b[39m▃\u001b[39m▃\u001b[39m▅\u001b[39m▅\u001b[39m▄\u001b[39m▄\u001b[39m▄\u001b[39m▃\u001b[39m▄\u001b[39m▅\u001b[39m \u001b[39m█\n",
       "  2.31 μs\u001b[90m      \u001b[39m\u001b[90mHistogram: \u001b[39m\u001b[90m\u001b[1mlog(\u001b[22m\u001b[39m\u001b[90mfrequency\u001b[39m\u001b[90m\u001b[1m)\u001b[22m\u001b[39m\u001b[90m by time\u001b[39m      8.11 μs \u001b[0m\u001b[1m<\u001b[22m\n",
       "\n",
       " Memory estimate\u001b[90m: \u001b[39m\u001b[33m1.61 KiB\u001b[39m, allocs estimate\u001b[90m: \u001b[39m\u001b[33m26\u001b[39m."
      ]
     },
     "execution_count": 10,
     "metadata": {},
     "output_type": "execute_result"
    }
   ],
   "source": [
    "using BenchmarkTools\n",
    "function adjacencytoneighbourhood(A::AbstractMatrix)\n",
    "    (nodes,T) = (size(A,1), eltype(A)) \n",
    "    neighbour = [Vector{Int}() for i = 1:nodes]\n",
    "    weight = [Vector{T}() for i=1:nodes]\n",
    "        for i = 1:nodes\n",
    "            for j = 1:nodes\n",
    "                if A[i,j] != zero(T) \n",
    "                    push!(neighbour[i], j) \n",
    "                    push!(weight[i], A[i,j])\n",
    "                end \n",
    "            end\n",
    "        end\n",
    "   return (neighbour, weight)\n",
    "end\n",
    "\n",
    "A₁=[0 3 6 0 0; 3 0 8 0 0; 6 8 0 0 0; 0 0 0 0 2; 0 0 0 2 0]\n",
    "print(adjacencytoneighbourhood(A₁))\n",
    "@benchmark adjacencytoneighbourhood(A₁)\n",
    "\n"
   ]
  },
  {
   "cell_type": "markdown",
   "metadata": {},
   "source": [
    "### 2. Connected Components \n",
    "With this Algorithm we want to find the number of components in our graph and get a vector which notes the number of the component each node is in. "
   ]
  },
  {
   "cell_type": "code",
   "execution_count": 3,
   "metadata": {},
   "outputs": [
    {
     "data": {
      "text/plain": [
       "connect (generic function with 1 method)"
      ]
     },
     "execution_count": 3,
     "metadata": {},
     "output_type": "execute_result"
    }
   ],
   "source": [
    "function visit!(neighbour::Array{Array{Int, 1}, 1}, component::Vector{Int}, i::Int) \n",
    "    for j in neighbour[i] #goes through the neighbours of i\n",
    "        if component[j] > 0 continue end #checks whether j has already been assigned to a component\n",
    "        component[j] = component[i] #if it hasn't been assigned yet, the same component number of i is saved for j\n",
    "        visit!(neighbour, component, j) #from j we then continue to further nodes. Once we have reached a leave we will go back stepwise until we have gone through the entire component. \n",
    "    end\n",
    "end\n",
    "\n",
    "function connect(neighbour::Array{Array{Int, 1}, 1}) #we require a nx1 vector with nx1 vectors as components. \n",
    "    nodes = length(neighbour) #set the total number of nodes we have to check\n",
    "    component = zeros(Int, nodes) #we define our vector where the number of components will be noted. 0 Means it hasn't been checked yet. \n",
    "    componentcount = 0\n",
    "    for i = 1:nodes #We want to check all nodes \n",
    "        if component[i] > 0 continue end #if v_i has been checked (i.e. greater 0), we dont't need to go over it again\n",
    "        componentcount += 1 #If it hasn't been checked with visit! it must be in a different component. Hence we add one up\n",
    "        component[i] = componentcount #we save the component number for the currently analysed node v_i\n",
    "        visit!(neighbour, component, i) #We go through the neighbours of v_i and their neighbours until the component vi is in is covered. \n",
    "    end\n",
    "    return (component, componentcount)\n",
    "end\n",
    "\n",
    "\n"
   ]
  },
  {
   "cell_type": "code",
   "execution_count": 4,
   "metadata": {},
   "outputs": [
    {
     "data": {
      "text/plain": [
       "10-element Vector{Vector{Int64}}:\n",
       " [2, 5]\n",
       " [1, 3, 4]\n",
       " [2]\n",
       " [2]\n",
       " [1, 6]\n",
       " [5]\n",
       " [8, 10]\n",
       " [7, 9]\n",
       " [8, 10]\n",
       " [7, 9]"
      ]
     },
     "execution_count": 4,
     "metadata": {},
     "output_type": "execute_result"
    }
   ],
   "source": [
    "A₂=[0   1   0   0   1   0   0   0   0   0;\n",
    "    1   0   1   1   0   0   0   0   0   0;\n",
    "    0   1   0   0   0   0   0   0   0   0;\n",
    "    0   1   0   0   0   0   0   0   0   0;\n",
    "    1   0   0   0   0   1   0   0   0   0;\n",
    "    0   0   0   0   1   0   0   0   0   0;\n",
    "    0   0   0   0   0   0   0   1   0   1;\n",
    "    0   0   0   0   0   0   1   0   1   0;\n",
    "    0   0   0   0   0   0   0   1   0   1;\n",
    "    0   0   0   0   0   0   1   0   1   0]\n",
    "neighboursofA₂ = adjacencytoneighbourhood(A₂)[1]\n"
   ]
  },
  {
   "cell_type": "code",
   "execution_count": 5,
   "metadata": {},
   "outputs": [
    {
     "data": {
      "text/plain": [
       "([1, 1, 1, 1, 1, 1, 2, 2, 2, 2], 2)"
      ]
     },
     "execution_count": 5,
     "metadata": {},
     "output_type": "execute_result"
    }
   ],
   "source": [
    "connect(neighboursofA₂)"
   ]
  },
  {
   "cell_type": "markdown",
   "metadata": {},
   "source": [
    "### Dijkstra's Algorithm"
   ]
  },
  {
   "cell_type": "code",
   "execution_count": 6,
   "metadata": {},
   "outputs": [
    {
     "ename": "LoadError",
     "evalue": "UndefVarError: A not defined",
     "output_type": "error",
     "traceback": [
      "UndefVarError: A not defined",
      "",
      "Stacktrace:",
      " [1] top-level scope",
      "   @ In[6]:30",
      " [2] eval",
      "   @ ./boot.jl:360 [inlined]",
      " [3] include_string(mapexpr::typeof(REPL.softscope), mod::Module, code::String, filename::String)",
      "   @ Base ./loading.jl:1116"
     ]
    }
   ],
   "source": [
    "using DataStructures #necessary for Priority Queue\n",
    "\n",
    "function dijkstra(neighbour::Array{Array{Int, 1}, 1}, weight::Array{Array{T, 1},1}, source::Int) where T <: Int\n",
    "    nodes = length(neighbour)\n",
    "    node = collect(1:nodes)\n",
    "    predecessor = zeros(Int, nodes)\n",
    "    visited = falses(nodes)\n",
    "    distance = fill(Inf, nodes) #single line for distance = zeros(nodes); fill!(distance, Inf)\n",
    "    distance[source] = 0.0 #Set the distance for S to 0\n",
    "    pq = PriorityQueue(zip(node, distance)) #See chapter 2 \"Priority Queue\"\n",
    "    while !isempty(pq)\n",
    "        (i,d) = peek(pq) #retrieve the node with the smallest remaining distance\n",
    "        distance[i] = d #reset the distance\n",
    "        visited[i] = true #note that it has been visited\n",
    "        dequeue!(pq) #take it out of the PriorityQueue\n",
    "        for k in 1:length(neighbour[i]) \n",
    "            j = neighbour[i][k] #going through the neighbours of i. We keep k bc v_j will be the kth entry in the weight vector. \n",
    "            if !visited[k] #if not visited\n",
    "                dij = d + weight[i][k] #k needed here\n",
    "                if pq[j] > dij\n",
    "                    predecessor[j] = i #note what i's precedessor is in the path \n",
    "                    pq[j] = dij #adjust the current shortest path length to j. The order in pq adjusts itself automatically (see experiment 1)\n",
    "                end\n",
    "            end\n",
    "        end\n",
    "    end\n",
    "    return (distance, predecessor)\n",
    "end\n",
    "\n",
    "dijkstra(adjacencytoneighbourhood(A)[1], adjacencytoneighbourhood(A)[2], 1)"
   ]
  },
  {
   "cell_type": "markdown",
   "metadata": {},
   "source": [
    "## Experiments"
   ]
  },
  {
   "cell_type": "code",
   "execution_count": null,
   "metadata": {},
   "outputs": [
    {
     "data": {
      "text/plain": [
       "([0.0, 5.0, 3.0, Inf, Inf], [0, 0, 0, 0, 0], PriorityQueue(1 => 0.0, 3 => 3.0, 2 => 5.0, 5 => Inf, 4 => Inf))"
      ]
     },
     "metadata": {},
     "output_type": "display_data"
    }
   ],
   "source": [
    "#Does the queue reorder itself automatically?\n",
    "\n",
    "function dijkstratest(neighbour::Array{Array{Int, 1}, 1}, weight::Array{Array{T, 1},1}, source::Int) where T <: Int\n",
    "    nodes = length(neighbour)\n",
    "    node = collect(1:nodes)\n",
    "    predecessor = zeros(Int, nodes)\n",
    "    visited = falses(nodes)\n",
    "    distance = fill(Inf, nodes) #single line for distance = zeros(nodes); fill!(distance, Inf)\n",
    "    distance[source] = 0.0 #Set the distance for S to 0\n",
    "    pq = PriorityQueue(zip(node, distance)) #See chapter 2 \"Priority Queue\"\n",
    "    for a in 1:2\n",
    "        (i,d) = peek(pq) #retrieve the node with the smallest remaining distance\n",
    "        distance[2] = 5 #reset the distance\n",
    "        distance[3] = 3 #reset the distance\n",
    "        pq[2] = 5\n",
    "        pq[3]= 3\n",
    "    end\n",
    "    return (distance, predecessor, pq)\n",
    "end\n",
    "\n",
    "dijkstratest(adjacencytoneighbourhood(A)[1], adjacencytoneighbourhood(A)[2], 1)"
   ]
  }
 ],
 "metadata": {
  "kernelspec": {
   "display_name": "Julia 1.6.3",
   "language": "julia",
   "name": "julia-1.6"
  },
  "language_info": {
   "file_extension": ".jl",
   "mimetype": "application/julia",
   "name": "julia",
   "version": "1.6.3"
  },
  "orig_nbformat": 4
 },
 "nbformat": 4,
 "nbformat_minor": 2
}
