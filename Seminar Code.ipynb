{
 "cells": [
  {
   "cell_type": "markdown",
   "metadata": {},
   "source": [
    "## Seminar Algorithms from THE BOOK // TUM SS2022 // Alexander Feil"
   ]
  },
  {
   "cell_type": "markdown",
   "metadata": {},
   "source": [
    "In this first code we will apply the adjacency to neighbourhood algorithm. The first code returns the neighbourhood vector for our matrix A and the second code returns the weight vector. Out of curiosity, this code also returns the duration of this code using the *@time* function. "
   ]
  },
  {
   "cell_type": "code",
   "execution_count": null,
   "metadata": {},
   "outputs": [],
   "source": [
    "using BenchmarkTools\n",
    "function adjacencytoneighbourhood(A::AbstractMatrix)1 \n",
    "    (nodes,T) = (size(A,1), eltype(A)) \n",
    "    neighbour = [Vector{Int}() for i = 1:nodes]\n",
    "    weight = [Vector{T}() for i=1:nodes]\n",
    "        for i = 1:nodes\n",
    "            for j = 1:nodes\n",
    "                if A[i,j] != zero(T) \n",
    "                    push!(neighbour[i], j) \n",
    "                    push!(weight[i], A[i,j])\n",
    "                end \n",
    "            end\n",
    "        end\n",
    "   return (neighbour, weight)\n",
    "end\n",
    "\n",
    "A=[0 3 6 0 3; 3 0 8 0 0; 6 8 0 0 0; 0 0 0 0 2; 3 0 0 2 0]\n",
    "@BenchmarkTools adjacencytoneighbourhood(A)[1]\n"
   ]
  },
  {
   "cell_type": "code",
   "execution_count": null,
   "metadata": {},
   "outputs": [],
   "source": [
    "@time adjacencytoneighbourhood(A)[2]"
   ]
  }
 ],
 "metadata": {
  "kernelspec": {
   "display_name": "Julia 1.6.3",
   "language": "julia",
   "name": "julia-1.6"
  },
  "language_info": {
   "file_extension": ".jl",
   "mimetype": "application/julia",
   "name": "julia",
   "version": "1.6.3"
  },
  "orig_nbformat": 4
 },
 "nbformat": 4,
 "nbformat_minor": 2
}
